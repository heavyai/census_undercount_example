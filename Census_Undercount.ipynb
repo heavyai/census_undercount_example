{
 "cells": [
  {
   "cell_type": "markdown",
   "metadata": {},
   "source": [
    "## Census Undercount"
   ]
  },
  {
   "cell_type": "markdown",
   "metadata": {},
   "source": [
    "Census Undercount in absolute terms is relatively small historically. However, it disproportionally-affects vulnerable populations. For those populations, undercount rates are much higher\n",
    "\n",
    "Traditionally Mail Return Rate of the Census survey is used as a proxy variable for the population undercount measure at the block level.\n",
    "\n",
    "The following variables are found to play a major role in explaining the measure\n",
    "\n",
    "\n",
    "1.  Percentage of the renter occupied units (+)\n",
    "2.  Total Population between 18 and 24 years of age (+)\n",
    "3.  Number of Female Households, No husbands (+)\n",
    "4.  Non Hispanic, White Alone population (-)\n",
    "5.  Total Population above 65 years (+)\n"
   ]
  },
  {
   "cell_type": "markdown",
   "metadata": {},
   "source": [
    "### Setup"
   ]
  },
  {
   "cell_type": "markdown",
   "metadata": {},
   "source": [
    "Connect to OmniSci database using standard credentials"
   ]
  },
  {
   "cell_type": "code",
   "execution_count": 15,
   "metadata": {},
   "outputs": [],
   "source": [
    "con=omnisci_connect()"
   ]
  },
  {
   "cell_type": "markdown",
   "metadata": {},
   "source": [
    "The 'con' variable above returns an Ibis connection, also for convenience and clarity, create a pymapd connection."
   ]
  },
  {
   "cell_type": "code",
   "execution_count": 16,
   "metadata": {},
   "outputs": [],
   "source": [
    "pymapd_con =con.con"
   ]
  },
  {
   "cell_type": "markdown",
   "metadata": {},
   "source": [
    "Install mlflow if needed (should come standard with most recent OmniSci installs)"
   ]
  },
  {
   "cell_type": "code",
   "execution_count": 17,
   "metadata": {},
   "outputs": [],
   "source": [
    "#!pip3 install mlflow"
   ]
  },
  {
   "cell_type": "code",
   "execution_count": 18,
   "metadata": {},
   "outputs": [],
   "source": [
    "import pandas as pd\n",
    "import matplotlib.pyplot as plt\n",
    "import seaborn as sns\n",
    "import math\n",
    "import numpy as np\n",
    "import os\n",
    "import warnings\n",
    "import sys"
   ]
  },
  {
   "cell_type": "code",
   "execution_count": 19,
   "metadata": {},
   "outputs": [],
   "source": [
    "import mlflow\n",
    "from mlflow import sklearn"
   ]
  },
  {
   "cell_type": "code",
   "execution_count": 20,
   "metadata": {},
   "outputs": [],
   "source": [
    "from sklearn.preprocessing import LabelEncoder\n",
    "from sklearn.metrics import *\n",
    "from sklearn.metrics import accuracy_score,r2_score"
   ]
  },
  {
   "cell_type": "code",
   "execution_count": 21,
   "metadata": {},
   "outputs": [],
   "source": [
    "import xgboost as xgb\n",
    "from xgboost.sklearn import XGBClassifier,XGBRegressor"
   ]
  },
  {
   "cell_type": "markdown",
   "metadata": {},
   "source": [
    "### Importing Data"
   ]
  },
  {
   "cell_type": "code",
   "execution_count": 22,
   "metadata": {},
   "outputs": [],
   "source": [
    "data_table=pd.read_csv(\"pdb2014bgv9_us.csv\",engine='python',thousands=',')"
   ]
  },
  {
   "cell_type": "code",
   "execution_count": 24,
   "metadata": {},
   "outputs": [
    {
     "data": {
      "text/plain": [
       "array(['Alabama', 'Alaska', 'Arizona', 'Arkansas', 'California',\n",
       "       'Colorado', 'Connecticut', 'Delaware', 'District of Columbia',\n",
       "       'Florida', 'Georgia', 'Hawaii', 'Idaho', 'Illinois', 'Indiana',\n",
       "       'Iowa', 'Kansas', 'Kentucky', 'Louisiana', 'Maine', 'Maryland',\n",
       "       'Massachusetts', 'Michigan', 'Minnesota', 'Mississippi',\n",
       "       'Missouri', 'Montana', 'Nebraska', 'Nevada', 'New Hampshire',\n",
       "       'New Jersey', 'New Mexico', 'New York', 'North Carolina',\n",
       "       'North Dakota', 'Ohio', 'Oklahoma', 'Oregon', 'Pennsylvania',\n",
       "       'Rhode Island', 'South Carolina', 'South Dakota', 'Tennessee',\n",
       "       'Texas', 'Utah', 'Vermont', 'Virginia', 'Washington',\n",
       "       'West Virginia', 'Wisconsin', 'Wyoming',\n",
       "       'Puerto Rico Commonwealth'], dtype=object)"
      ]
     },
     "execution_count": 24,
     "metadata": {},
     "output_type": "execute_result"
    }
   ],
   "source": [
    "data_table[\"State_name\"].unique()"
   ]
  },
  {
   "cell_type": "markdown",
   "metadata": {},
   "source": [
    "Clean up columns which have dollar signs and commas"
   ]
  },
  {
   "cell_type": "code",
   "execution_count": 25,
   "metadata": {},
   "outputs": [],
   "source": [
    "data_table['Med_HHD_Inc_BG_ACS_08_12'] = data_table['Med_HHD_Inc_BG_ACS_08_12'].str.replace('$', '')\n",
    "data_table['Med_HHD_Inc_BG_ACS_08_12'] = data_table['Med_HHD_Inc_BG_ACS_08_12'].str.replace(',', '')\n",
    "\n",
    "data_table['Med_HHD_Inc_BG_ACSMOE_08_12'] = data_table['Med_HHD_Inc_BG_ACSMOE_08_12'].str.replace('$', '')\n",
    "data_table['Med_HHD_Inc_BG_ACSMOE_08_12'] = data_table['Med_HHD_Inc_BG_ACSMOE_08_12'].str.replace(',', '')\n",
    "\n",
    "data_table['Med_HHD_Inc_TR_ACS_08_12'] = data_table['Med_HHD_Inc_TR_ACS_08_12'].str.replace('$', '')\n",
    "data_table['Med_HHD_Inc_TR_ACS_08_12'] = data_table['Med_HHD_Inc_TR_ACS_08_12'].str.replace(',', '')\n",
    "\n",
    "data_table['Med_HHD_Inc_TR_ACSMOE_08_12'] = data_table['Med_HHD_Inc_TR_ACSMOE_08_12'].str.replace('$', '')\n",
    "data_table['Med_HHD_Inc_TR_ACSMOE_08_12'] = data_table['Med_HHD_Inc_TR_ACSMOE_08_12'].str.replace(',', '')\n",
    "\n",
    "data_table['Aggregate_HH_INC_ACS_08_12'] = data_table['Aggregate_HH_INC_ACS_08_12'].str.replace('$', '')\n",
    "data_table['Aggregate_HH_INC_ACS_08_12'] = data_table['Aggregate_HH_INC_ACS_08_12'].str.replace(',', '')\n",
    "\n",
    "data_table['Aggregate_HH_INC_ACSMOE_08_12'] = data_table['Aggregate_HH_INC_ACSMOE_08_12'].str.replace('$', '')\n",
    "data_table['Aggregate_HH_INC_ACSMOE_08_12'] = data_table['Aggregate_HH_INC_ACSMOE_08_12'].str.replace(',', '')\n",
    "\n",
    "data_table['Med_House_Value_BG_ACS_08_12'] = data_table['Med_House_Value_BG_ACS_08_12'].str.replace('$', '')\n",
    "data_table['Med_House_Value_BG_ACS_08_12'] = data_table['Med_House_Value_BG_ACS_08_12'].str.replace(',', '')\n",
    "\n",
    "data_table['Med_House_Value_BG_ACSMOE_08_12'] = data_table['Med_House_Value_BG_ACSMOE_08_12'].str.replace('$', '')\n",
    "data_table['Med_House_Value_BG_ACSMOE_08_12'] = data_table['Med_House_Value_BG_ACSMOE_08_12'].str.replace(',', '')\n",
    "\n",
    "data_table['Med_house_value_tr_ACS_08_12'] = data_table['Med_house_value_tr_ACS_08_12'].str.replace('$', '')\n",
    "data_table['Med_house_value_tr_ACS_08_12'] = data_table['Med_house_value_tr_ACS_08_12'].str.replace(',', '')\n",
    "\n",
    "data_table['Med_house_value_tr_ACSMOE_08_12'] = data_table['Med_house_value_tr_ACSMOE_08_12'].str.replace('$', '')\n",
    "data_table['Med_house_value_tr_ACSMOE_08_12'] = data_table['Med_house_value_tr_ACSMOE_08_12'].str.replace(',', '')\n",
    "\n",
    "data_table['Aggr_House_Value_ACS_08_12'] = data_table['Aggr_House_Value_ACS_08_12'].str.replace('$', '')\n",
    "data_table['Aggr_House_Value_ACS_08_12'] = data_table['Aggr_House_Value_ACS_08_12'].str.replace(',', '')\n",
    "\n",
    "data_table['Aggr_House_Value_ACSMOE_08_12'] = data_table['Aggr_House_Value_ACSMOE_08_12'].str.replace('$', '')\n",
    "data_table['Aggr_House_Value_ACSMOE_08_12'] = data_table['Aggr_House_Value_ACSMOE_08_12'].str.replace(',', '')\n"
   ]
  },
  {
   "cell_type": "markdown",
   "metadata": {},
   "source": [
    "Force column types"
   ]
  },
  {
   "cell_type": "code",
   "execution_count": 26,
   "metadata": {},
   "outputs": [],
   "source": [
    "data_table['GIDBG']=data_table['GIDBG'].astype(str)\n",
    "data_table['State']=data_table['State'].astype(str)\n",
    "data_table['State_name']=data_table['State_name'].astype(str)\n",
    "data_table['County']=data_table['County'].astype(str)\n",
    "data_table['County_name']=data_table['County_name'].astype(str)\n",
    "data_table['Tract']=data_table['Tract'].astype(str)\n",
    "data_table['Block_Group']=data_table['Block_Group'].astype(str)\n",
    "\n",
    "data_table['Med_HHD_Inc_BG_ACS_08_12']=data_table['Med_HHD_Inc_BG_ACS_08_12'].notnull().astype(int)\n",
    "data_table['Med_HHD_Inc_BG_ACSMOE_08_12']=data_table['Med_HHD_Inc_BG_ACSMOE_08_12'].notnull().astype(int)\n",
    "data_table['Med_HHD_Inc_TR_ACS_08_12']=data_table['Med_HHD_Inc_TR_ACS_08_12'].notnull().astype(int)\n",
    "data_table['Med_HHD_Inc_TR_ACSMOE_08_12']=data_table['Med_HHD_Inc_TR_ACSMOE_08_12'].notnull().astype(int)\n",
    "data_table['Aggregate_HH_INC_ACS_08_12']=data_table['Aggregate_HH_INC_ACS_08_12'].notnull().astype(int)\n",
    "data_table['Aggregate_HH_INC_ACSMOE_08_12']=data_table['Aggregate_HH_INC_ACSMOE_08_12'].notnull().astype(int)\n",
    "data_table['Med_House_Value_BG_ACS_08_12']=data_table['Med_House_Value_BG_ACS_08_12'].notnull().astype(int)\n",
    "data_table['Med_House_Value_BG_ACSMOE_08_12']=data_table['Med_House_Value_BG_ACSMOE_08_12'].notnull().astype(int)\n",
    "data_table['Med_house_value_tr_ACS_08_12']=data_table['Med_house_value_tr_ACS_08_12'].notnull().astype(int)\n",
    "data_table['Med_house_value_tr_ACSMOE_08_12']=data_table['Med_house_value_tr_ACSMOE_08_12'].notnull().astype(int)\n",
    "data_table['Aggr_House_Value_ACS_08_12']=data_table['Aggr_House_Value_ACS_08_12'].notnull().astype(int)\n",
    "data_table['Aggr_House_Value_ACSMOE_08_12']=data_table['Aggr_House_Value_ACSMOE_08_12'].notnull().astype(int)\n"
   ]
  },
  {
   "cell_type": "code",
   "execution_count": 27,
   "metadata": {},
   "outputs": [
    {
     "data": {
      "text/html": [
       "<div>\n",
       "<style scoped>\n",
       "    .dataframe tbody tr th:only-of-type {\n",
       "        vertical-align: middle;\n",
       "    }\n",
       "\n",
       "    .dataframe tbody tr th {\n",
       "        vertical-align: top;\n",
       "    }\n",
       "\n",
       "    .dataframe thead th {\n",
       "        text-align: right;\n",
       "    }\n",
       "</style>\n",
       "<table border=\"1\" class=\"dataframe\">\n",
       "  <thead>\n",
       "    <tr style=\"text-align: right;\">\n",
       "      <th></th>\n",
       "      <th>GIDBG</th>\n",
       "      <th>State</th>\n",
       "      <th>State_name</th>\n",
       "      <th>County</th>\n",
       "      <th>County_name</th>\n",
       "      <th>Tract</th>\n",
       "      <th>Block_Group</th>\n",
       "      <th>Flag</th>\n",
       "      <th>LAND_AREA</th>\n",
       "      <th>AIAN_LAND</th>\n",
       "      <th>...</th>\n",
       "      <th>pct_TEA_MailOutMailBack_CEN_2010</th>\n",
       "      <th>pct_TEA_Update_Leave_CEN_2010</th>\n",
       "      <th>pct_Census_Mail_Returns_CEN_2010</th>\n",
       "      <th>pct_Vacant_CEN_2010</th>\n",
       "      <th>pct_Deletes_CEN_2010</th>\n",
       "      <th>pct_Census_UAA_CEN_2010</th>\n",
       "      <th>pct_Mailback_Count_CEN_2010</th>\n",
       "      <th>pct_FRST_FRMS_CEN_2010</th>\n",
       "      <th>pct_RPLCMNT_FRMS_CEN_2010</th>\n",
       "      <th>pct_BILQ_Mailout_count_CEN_2010</th>\n",
       "    </tr>\n",
       "  </thead>\n",
       "  <tbody>\n",
       "    <tr>\n",
       "      <th>0</th>\n",
       "      <td>10010201001</td>\n",
       "      <td>1</td>\n",
       "      <td>Alabama</td>\n",
       "      <td>1</td>\n",
       "      <td>Autauga County</td>\n",
       "      <td>20100</td>\n",
       "      <td>1</td>\n",
       "      <td>NaN</td>\n",
       "      <td>1.638</td>\n",
       "      <td>0.0</td>\n",
       "      <td>...</td>\n",
       "      <td>100.0</td>\n",
       "      <td>0.0</td>\n",
       "      <td>62.13</td>\n",
       "      <td>3.65</td>\n",
       "      <td>0.0</td>\n",
       "      <td>19.93</td>\n",
       "      <td>76.41</td>\n",
       "      <td>54.49</td>\n",
       "      <td>7.64</td>\n",
       "      <td>0.0</td>\n",
       "    </tr>\n",
       "    <tr>\n",
       "      <th>1</th>\n",
       "      <td>10010201002</td>\n",
       "      <td>1</td>\n",
       "      <td>Alabama</td>\n",
       "      <td>1</td>\n",
       "      <td>Autauga County</td>\n",
       "      <td>20100</td>\n",
       "      <td>2</td>\n",
       "      <td>NaN</td>\n",
       "      <td>2.150</td>\n",
       "      <td>0.0</td>\n",
       "      <td>...</td>\n",
       "      <td>100.0</td>\n",
       "      <td>0.0</td>\n",
       "      <td>72.08</td>\n",
       "      <td>0.83</td>\n",
       "      <td>0.0</td>\n",
       "      <td>14.17</td>\n",
       "      <td>85.00</td>\n",
       "      <td>66.46</td>\n",
       "      <td>5.63</td>\n",
       "      <td>0.0</td>\n",
       "    </tr>\n",
       "    <tr>\n",
       "      <th>2</th>\n",
       "      <td>10010202001</td>\n",
       "      <td>1</td>\n",
       "      <td>Alabama</td>\n",
       "      <td>1</td>\n",
       "      <td>Autauga County</td>\n",
       "      <td>20200</td>\n",
       "      <td>1</td>\n",
       "      <td>NaN</td>\n",
       "      <td>0.795</td>\n",
       "      <td>0.0</td>\n",
       "      <td>...</td>\n",
       "      <td>100.0</td>\n",
       "      <td>0.0</td>\n",
       "      <td>69.21</td>\n",
       "      <td>2.11</td>\n",
       "      <td>0.0</td>\n",
       "      <td>11.58</td>\n",
       "      <td>86.32</td>\n",
       "      <td>62.63</td>\n",
       "      <td>6.58</td>\n",
       "      <td>0.0</td>\n",
       "    </tr>\n",
       "    <tr>\n",
       "      <th>3</th>\n",
       "      <td>10010202002</td>\n",
       "      <td>1</td>\n",
       "      <td>Alabama</td>\n",
       "      <td>1</td>\n",
       "      <td>Autauga County</td>\n",
       "      <td>20200</td>\n",
       "      <td>2</td>\n",
       "      <td>NaN</td>\n",
       "      <td>0.495</td>\n",
       "      <td>0.0</td>\n",
       "      <td>...</td>\n",
       "      <td>100.0</td>\n",
       "      <td>0.0</td>\n",
       "      <td>68.50</td>\n",
       "      <td>2.42</td>\n",
       "      <td>0.0</td>\n",
       "      <td>14.32</td>\n",
       "      <td>83.26</td>\n",
       "      <td>59.25</td>\n",
       "      <td>9.25</td>\n",
       "      <td>0.0</td>\n",
       "    </tr>\n",
       "    <tr>\n",
       "      <th>4</th>\n",
       "      <td>10010203001</td>\n",
       "      <td>1</td>\n",
       "      <td>Alabama</td>\n",
       "      <td>1</td>\n",
       "      <td>Autauga County</td>\n",
       "      <td>20300</td>\n",
       "      <td>1</td>\n",
       "      <td>NaN</td>\n",
       "      <td>1.493</td>\n",
       "      <td>0.0</td>\n",
       "      <td>...</td>\n",
       "      <td>100.0</td>\n",
       "      <td>0.0</td>\n",
       "      <td>75.16</td>\n",
       "      <td>1.57</td>\n",
       "      <td>0.0</td>\n",
       "      <td>5.24</td>\n",
       "      <td>93.19</td>\n",
       "      <td>75.16</td>\n",
       "      <td>0.00</td>\n",
       "      <td>0.0</td>\n",
       "    </tr>\n",
       "  </tbody>\n",
       "</table>\n",
       "<p>5 rows × 332 columns</p>\n",
       "</div>"
      ],
      "text/plain": [
       "         GIDBG State State_name County     County_name  Tract Block_Group  \\\n",
       "0  10010201001     1    Alabama      1  Autauga County  20100           1   \n",
       "1  10010201002     1    Alabama      1  Autauga County  20100           2   \n",
       "2  10010202001     1    Alabama      1  Autauga County  20200           1   \n",
       "3  10010202002     1    Alabama      1  Autauga County  20200           2   \n",
       "4  10010203001     1    Alabama      1  Autauga County  20300           1   \n",
       "\n",
       "   Flag  LAND_AREA  AIAN_LAND  ...  pct_TEA_MailOutMailBack_CEN_2010  \\\n",
       "0   NaN      1.638        0.0  ...                             100.0   \n",
       "1   NaN      2.150        0.0  ...                             100.0   \n",
       "2   NaN      0.795        0.0  ...                             100.0   \n",
       "3   NaN      0.495        0.0  ...                             100.0   \n",
       "4   NaN      1.493        0.0  ...                             100.0   \n",
       "\n",
       "   pct_TEA_Update_Leave_CEN_2010  pct_Census_Mail_Returns_CEN_2010  \\\n",
       "0                            0.0                             62.13   \n",
       "1                            0.0                             72.08   \n",
       "2                            0.0                             69.21   \n",
       "3                            0.0                             68.50   \n",
       "4                            0.0                             75.16   \n",
       "\n",
       "   pct_Vacant_CEN_2010  pct_Deletes_CEN_2010  pct_Census_UAA_CEN_2010  \\\n",
       "0                 3.65                   0.0                    19.93   \n",
       "1                 0.83                   0.0                    14.17   \n",
       "2                 2.11                   0.0                    11.58   \n",
       "3                 2.42                   0.0                    14.32   \n",
       "4                 1.57                   0.0                     5.24   \n",
       "\n",
       "   pct_Mailback_Count_CEN_2010  pct_FRST_FRMS_CEN_2010  \\\n",
       "0                        76.41                   54.49   \n",
       "1                        85.00                   66.46   \n",
       "2                        86.32                   62.63   \n",
       "3                        83.26                   59.25   \n",
       "4                        93.19                   75.16   \n",
       "\n",
       "   pct_RPLCMNT_FRMS_CEN_2010  pct_BILQ_Mailout_count_CEN_2010  \n",
       "0                       7.64                              0.0  \n",
       "1                       5.63                              0.0  \n",
       "2                       6.58                              0.0  \n",
       "3                       9.25                              0.0  \n",
       "4                       0.00                              0.0  \n",
       "\n",
       "[5 rows x 332 columns]"
      ]
     },
     "execution_count": 27,
     "metadata": {},
     "output_type": "execute_result"
    }
   ],
   "source": [
    "data_table.head()"
   ]
  },
  {
   "cell_type": "markdown",
   "metadata": {},
   "source": [
    "Make sure we get 0-padding on census block groups"
   ]
  },
  {
   "cell_type": "code",
   "execution_count": 28,
   "metadata": {},
   "outputs": [],
   "source": [
    "data_table['GIDBG']=data_table['GIDBG'].apply(lambda x: '0' + x if (len(x)==11) else x )"
   ]
  },
  {
   "cell_type": "markdown",
   "metadata": {},
   "source": [
    "Load cleaned-up table to omnisci from pandas"
   ]
  },
  {
   "cell_type": "code",
   "execution_count": 8,
   "metadata": {
    "collapsed": true,
    "jupyter": {
     "outputs_hidden": true
    }
   },
   "outputs": [
    {
     "ename": "NameError",
     "evalue": "name 'data_table' is not defined",
     "output_type": "error",
     "traceback": [
      "\u001b[0;31m---------------------------------------------------------------------------\u001b[0m",
      "\u001b[0;31mNameError\u001b[0m                                 Traceback (most recent call last)",
      "\u001b[0;32m<ipython-input-8-43981def6c16>\u001b[0m in \u001b[0;36m<module>\u001b[0;34m\u001b[0m\n\u001b[0;32m----> 1\u001b[0;31m \u001b[0mpymapd_con\u001b[0m\u001b[0;34m.\u001b[0m\u001b[0mload_table\u001b[0m\u001b[0;34m(\u001b[0m\u001b[0;34m'us_census_undercount'\u001b[0m\u001b[0;34m,\u001b[0m \u001b[0mdata_table\u001b[0m\u001b[0;34m)\u001b[0m\u001b[0;34m\u001b[0m\u001b[0;34m\u001b[0m\u001b[0m\n\u001b[0m",
      "\u001b[0;31mNameError\u001b[0m: name 'data_table' is not defined"
     ]
    }
   ],
   "source": [
    "pymapd_con.load_table('us_census_undercount', data_table)"
   ]
  },
  {
   "cell_type": "code",
   "execution_count": 18,
   "metadata": {},
   "outputs": [
    {
     "data": {
      "text/html": [
       "<div>\n",
       "<style scoped>\n",
       "    .dataframe tbody tr th:only-of-type {\n",
       "        vertical-align: middle;\n",
       "    }\n",
       "\n",
       "    .dataframe tbody tr th {\n",
       "        vertical-align: top;\n",
       "    }\n",
       "\n",
       "    .dataframe thead th {\n",
       "        text-align: right;\n",
       "    }\n",
       "</style>\n",
       "<table border=\"1\" class=\"dataframe\">\n",
       "  <thead>\n",
       "    <tr style=\"text-align: right;\">\n",
       "      <th></th>\n",
       "      <th>GIDBG</th>\n",
       "      <th>State</th>\n",
       "      <th>State_name</th>\n",
       "      <th>County</th>\n",
       "      <th>County_name</th>\n",
       "      <th>Tract</th>\n",
       "      <th>Block_Group</th>\n",
       "      <th>Flag</th>\n",
       "      <th>LAND_AREA</th>\n",
       "      <th>AIAN_LAND</th>\n",
       "      <th>...</th>\n",
       "      <th>pct_TEA_MailOutMailBack_CEN_2010</th>\n",
       "      <th>pct_TEA_Update_Leave_CEN_2010</th>\n",
       "      <th>pct_Census_Mail_Returns_CEN_2010</th>\n",
       "      <th>pct_Vacant_CEN_2010</th>\n",
       "      <th>pct_Deletes_CEN_2010</th>\n",
       "      <th>pct_Census_UAA_CEN_2010</th>\n",
       "      <th>pct_Mailback_Count_CEN_2010</th>\n",
       "      <th>pct_FRST_FRMS_CEN_2010</th>\n",
       "      <th>pct_RPLCMNT_FRMS_CEN_2010</th>\n",
       "      <th>pct_BILQ_Mailout_count_CEN_2010</th>\n",
       "    </tr>\n",
       "  </thead>\n",
       "  <tbody>\n",
       "    <tr>\n",
       "      <th>0</th>\n",
       "      <td>010010201001</td>\n",
       "      <td>1</td>\n",
       "      <td>Alabama</td>\n",
       "      <td>1</td>\n",
       "      <td>Autauga County</td>\n",
       "      <td>20100</td>\n",
       "      <td>1</td>\n",
       "      <td>NaN</td>\n",
       "      <td>1.638</td>\n",
       "      <td>0.0</td>\n",
       "      <td>...</td>\n",
       "      <td>100.0</td>\n",
       "      <td>0.0</td>\n",
       "      <td>62.13</td>\n",
       "      <td>3.65</td>\n",
       "      <td>0.0</td>\n",
       "      <td>19.93</td>\n",
       "      <td>76.41</td>\n",
       "      <td>54.49</td>\n",
       "      <td>7.64</td>\n",
       "      <td>0.0</td>\n",
       "    </tr>\n",
       "    <tr>\n",
       "      <th>1</th>\n",
       "      <td>010010201002</td>\n",
       "      <td>1</td>\n",
       "      <td>Alabama</td>\n",
       "      <td>1</td>\n",
       "      <td>Autauga County</td>\n",
       "      <td>20100</td>\n",
       "      <td>2</td>\n",
       "      <td>NaN</td>\n",
       "      <td>2.150</td>\n",
       "      <td>0.0</td>\n",
       "      <td>...</td>\n",
       "      <td>100.0</td>\n",
       "      <td>0.0</td>\n",
       "      <td>72.08</td>\n",
       "      <td>0.83</td>\n",
       "      <td>0.0</td>\n",
       "      <td>14.17</td>\n",
       "      <td>85.00</td>\n",
       "      <td>66.46</td>\n",
       "      <td>5.63</td>\n",
       "      <td>0.0</td>\n",
       "    </tr>\n",
       "    <tr>\n",
       "      <th>2</th>\n",
       "      <td>010010202001</td>\n",
       "      <td>1</td>\n",
       "      <td>Alabama</td>\n",
       "      <td>1</td>\n",
       "      <td>Autauga County</td>\n",
       "      <td>20200</td>\n",
       "      <td>1</td>\n",
       "      <td>NaN</td>\n",
       "      <td>0.795</td>\n",
       "      <td>0.0</td>\n",
       "      <td>...</td>\n",
       "      <td>100.0</td>\n",
       "      <td>0.0</td>\n",
       "      <td>69.21</td>\n",
       "      <td>2.11</td>\n",
       "      <td>0.0</td>\n",
       "      <td>11.58</td>\n",
       "      <td>86.32</td>\n",
       "      <td>62.63</td>\n",
       "      <td>6.58</td>\n",
       "      <td>0.0</td>\n",
       "    </tr>\n",
       "    <tr>\n",
       "      <th>3</th>\n",
       "      <td>010010202002</td>\n",
       "      <td>1</td>\n",
       "      <td>Alabama</td>\n",
       "      <td>1</td>\n",
       "      <td>Autauga County</td>\n",
       "      <td>20200</td>\n",
       "      <td>2</td>\n",
       "      <td>NaN</td>\n",
       "      <td>0.495</td>\n",
       "      <td>0.0</td>\n",
       "      <td>...</td>\n",
       "      <td>100.0</td>\n",
       "      <td>0.0</td>\n",
       "      <td>68.50</td>\n",
       "      <td>2.42</td>\n",
       "      <td>0.0</td>\n",
       "      <td>14.32</td>\n",
       "      <td>83.26</td>\n",
       "      <td>59.25</td>\n",
       "      <td>9.25</td>\n",
       "      <td>0.0</td>\n",
       "    </tr>\n",
       "    <tr>\n",
       "      <th>4</th>\n",
       "      <td>010010203001</td>\n",
       "      <td>1</td>\n",
       "      <td>Alabama</td>\n",
       "      <td>1</td>\n",
       "      <td>Autauga County</td>\n",
       "      <td>20300</td>\n",
       "      <td>1</td>\n",
       "      <td>NaN</td>\n",
       "      <td>1.493</td>\n",
       "      <td>0.0</td>\n",
       "      <td>...</td>\n",
       "      <td>100.0</td>\n",
       "      <td>0.0</td>\n",
       "      <td>75.16</td>\n",
       "      <td>1.57</td>\n",
       "      <td>0.0</td>\n",
       "      <td>5.24</td>\n",
       "      <td>93.19</td>\n",
       "      <td>75.16</td>\n",
       "      <td>0.00</td>\n",
       "      <td>0.0</td>\n",
       "    </tr>\n",
       "  </tbody>\n",
       "</table>\n",
       "<p>5 rows × 332 columns</p>\n",
       "</div>"
      ],
      "text/plain": [
       "          GIDBG State State_name County     County_name  Tract Block_Group  \\\n",
       "0  010010201001     1    Alabama      1  Autauga County  20100           1   \n",
       "1  010010201002     1    Alabama      1  Autauga County  20100           2   \n",
       "2  010010202001     1    Alabama      1  Autauga County  20200           1   \n",
       "3  010010202002     1    Alabama      1  Autauga County  20200           2   \n",
       "4  010010203001     1    Alabama      1  Autauga County  20300           1   \n",
       "\n",
       "   Flag  LAND_AREA  AIAN_LAND  ...  pct_TEA_MailOutMailBack_CEN_2010  \\\n",
       "0   NaN      1.638        0.0  ...                             100.0   \n",
       "1   NaN      2.150        0.0  ...                             100.0   \n",
       "2   NaN      0.795        0.0  ...                             100.0   \n",
       "3   NaN      0.495        0.0  ...                             100.0   \n",
       "4   NaN      1.493        0.0  ...                             100.0   \n",
       "\n",
       "   pct_TEA_Update_Leave_CEN_2010  pct_Census_Mail_Returns_CEN_2010  \\\n",
       "0                            0.0                             62.13   \n",
       "1                            0.0                             72.08   \n",
       "2                            0.0                             69.21   \n",
       "3                            0.0                             68.50   \n",
       "4                            0.0                             75.16   \n",
       "\n",
       "   pct_Vacant_CEN_2010  pct_Deletes_CEN_2010  pct_Census_UAA_CEN_2010  \\\n",
       "0                 3.65                   0.0                    19.93   \n",
       "1                 0.83                   0.0                    14.17   \n",
       "2                 2.11                   0.0                    11.58   \n",
       "3                 2.42                   0.0                    14.32   \n",
       "4                 1.57                   0.0                     5.24   \n",
       "\n",
       "   pct_Mailback_Count_CEN_2010  pct_FRST_FRMS_CEN_2010  \\\n",
       "0                        76.41                   54.49   \n",
       "1                        85.00                   66.46   \n",
       "2                        86.32                   62.63   \n",
       "3                        83.26                   59.25   \n",
       "4                        93.19                   75.16   \n",
       "\n",
       "   pct_RPLCMNT_FRMS_CEN_2010  pct_BILQ_Mailout_count_CEN_2010  \n",
       "0                       7.64                              0.0  \n",
       "1                       5.63                              0.0  \n",
       "2                       6.58                              0.0  \n",
       "3                       9.25                              0.0  \n",
       "4                       0.00                              0.0  \n",
       "\n",
       "[5 rows x 332 columns]"
      ]
     },
     "execution_count": 18,
     "metadata": {},
     "output_type": "execute_result"
    }
   ],
   "source": [
    "data_table.head()"
   ]
  },
  {
   "cell_type": "code",
   "execution_count": 28,
   "metadata": {},
   "outputs": [
    {
     "data": {
      "text/plain": [
       "<pymapd.cursor.Cursor at 0x7f3049402610>"
      ]
     },
     "execution_count": 28,
     "metadata": {},
     "output_type": "execute_result"
    }
   ],
   "source": [
    "query=f\"CREATE TABLE US_Census_Adjusted_Data as (SELECT undercount.*,omnisci_geo from us_census_geo as GEO, us_census_undercount as undercount WHERE GEO.GEOID=undercount.GIDBG)\"\n",
    "pymapd_con.execute(query)"
   ]
  },
  {
   "cell_type": "markdown",
   "metadata": {},
   "source": [
    "# Machine Learning Libraries"
   ]
  },
  {
   "cell_type": "code",
   "execution_count": 50,
   "metadata": {},
   "outputs": [],
   "source": [
    "from sklearn.linear_model import LinearRegression \n",
    "from sklearn import preprocessing\n",
    "from patsy import dmatrices\n",
    "from sklearn.ensemble import RandomForestRegressor\n",
    "\n",
    "import statsmodels.api as sm\n",
    "\n",
    "import xgboost as xgb\n",
    "from xgboost import plot_importance, plot_tree\n",
    "import sklearn.model_selection as model_selection\n",
    "\n",
    "from sklearn import metrics,linear_model\n",
    "from sklearn.metrics import mean_squared_error, mean_absolute_error, r2_score\n",
    "from sklearn.linear_model import ElasticNet"
   ]
  },
  {
   "cell_type": "markdown",
   "metadata": {},
   "source": [
    "# Data Extraction"
   ]
  },
  {
   "cell_type": "code",
   "execution_count": 51,
   "metadata": {},
   "outputs": [],
   "source": [
    "data=con.table('xmode_census')\n",
    "data_frame=data.execute()"
   ]
  },
  {
   "cell_type": "code",
   "execution_count": 52,
   "metadata": {},
   "outputs": [],
   "source": [
    "data_frame_updated=data_frame.dropna(subset=['Renter_Occp_HU_CEN_2010','Female_No_HB_CEN_2010','NH_White_alone_CEN_2010','Rel_Child_Under_6_CEN_2010',\\\n",
    "                      'MrdCple_Fmly_HHD_CEN_2010','Tot_Vacant_Units_CEN_2010','College_ACS_08_12','Med_House_Value_BG_ACS_08_12',\\\n",
    "                      'HHD_Moved_in_ACS_08_12','Hispanic_CEN_2010','Single_Unit_ACS_08_12','Diff_HU_1yr_Ago_ACS_08_12',\\\n",
    "                      'NH_Blk_alone_CEN_2010','Sngl_Prns_HHD_CEN_2010','Not_HS_Grad_ACS_08_12','Prs_Blw_Pov_Lev_ACS_08_12','Average_Distance_Person_Day','Average_Dwell_Cluster_Duration','Average_POI_Dwell_time','Percent_Sampling','Pop_18_24_CEN_2010','Pop_65plus_CEN_2010','Pop_25_44_CEN_2010','Pop_45_64_CEN_2010','Pop_5_17_CEN_2010','Males_CEN_2010','Tot_Prns_in_HHD_CEN_2010','Tot_Population_CEN_2010','Mail_Return_Rate_CEN_2010'])"
   ]
  },
  {
   "cell_type": "code",
   "execution_count": 53,
   "metadata": {},
   "outputs": [
    {
     "name": "stderr",
     "output_type": "stream",
     "text": [
      "/opt/conda/lib/python3.7/site-packages/geopandas/geodataframe.py:831: SettingWithCopyWarning: \n",
      "A value is trying to be set on a copy of a slice from a DataFrame.\n",
      "Try using .loc[row_indexer,col_indexer] = value instead\n",
      "\n",
      "See the caveats in the documentation: https://pandas.pydata.org/pandas-docs/stable/user_guide/indexing.html#returning-a-view-versus-a-copy\n",
      "  super(GeoDataFrame, self).__setitem__(key, value)\n"
     ]
    }
   ],
   "source": [
    "data_frame_updated['Mail_Non_Return_Rate_CEN_2010'] = 100 - data_frame_updated['Mail_Return_Rate_CEN_2010']\n",
    "\n",
    "Feature_Set=data_frame_updated[['Renter_Occp_HU_CEN_2010','Female_No_HB_CEN_2010','NH_White_alone_CEN_2010','Rel_Child_Under_6_CEN_2010',\\\n",
    "                      'MrdCple_Fmly_HHD_CEN_2010','Tot_Vacant_Units_CEN_2010','College_ACS_08_12','Med_House_Value_BG_ACS_08_12',\\\n",
    "                      'HHD_Moved_in_ACS_08_12','Hispanic_CEN_2010','Single_Unit_ACS_08_12','Diff_HU_1yr_Ago_ACS_08_12',\\\n",
    "                      'Prs_Blw_Pov_Lev_ACS_08_12','Pop_18_24_CEN_2010','NH_Blk_alone_CEN_2010','Sngl_Prns_HHD_CEN_2010','Not_HS_Grad_ACS_08_12']]\n",
    "\n",
    "#Normalising Data\n",
    "Feature = preprocessing.scale(Feature_Set)\n",
    "\n",
    "Dependent_Variable=data_frame_updated['Mail_Non_Return_Rate_CEN_2010']\n",
    "#Dependent_Variable = data_frame_updated['Tot_Population_CEN_2010']"
   ]
  },
  {
   "cell_type": "code",
   "execution_count": 54,
   "metadata": {},
   "outputs": [],
   "source": [
    "X_train, X_test, y_train, y_test = model_selection.train_test_split(Feature, Dependent_Variable, test_size=0.33, random_state=42)"
   ]
  },
  {
   "cell_type": "markdown",
   "metadata": {},
   "source": [
    "# Basic Linear Regression Model"
   ]
  },
  {
   "cell_type": "code",
   "execution_count": 26,
   "metadata": {},
   "outputs": [
    {
     "name": "stdout",
     "output_type": "stream",
     "text": [
      "Mean Absolute Error: 76.2855193082848\n",
      "Mean Squared Error: 16697.43314097409\n",
      "Root Mean Squared Error: 129.21854797579988\n",
      "R2 Score: 0.9732016566329521\n",
      "                          Variable  Coefficient\n",
      "0          Renter_Occp_HU_CEN_2010    77.025371\n",
      "1            Female_No_HB_CEN_2010    28.816059\n",
      "2          NH_White_alone_CEN_2010   374.289728\n",
      "3       Rel_Child_Under_6_CEN_2010    63.121041\n",
      "4        MrdCple_Fmly_HHD_CEN_2010   223.147461\n",
      "5        Tot_Vacant_Units_CEN_2010    -9.901698\n",
      "6                College_ACS_08_12    62.204537\n",
      "7     Med_House_Value_BG_ACS_08_12    -3.333947\n",
      "8           HHD_Moved_in_ACS_08_12   -40.178589\n",
      "9                Hispanic_CEN_2010   273.378390\n",
      "10           Single_Unit_ACS_08_12     0.902207\n",
      "11       Diff_HU_1yr_Ago_ACS_08_12    88.012118\n",
      "12           NH_Blk_alone_CEN_2010   209.906127\n",
      "13          Sngl_Prns_HHD_CEN_2010   -15.816356\n",
      "14           Not_HS_Grad_ACS_08_12    42.537045\n",
      "15       Prs_Blw_Pov_Lev_ACS_08_12    -4.183709\n",
      "16     Average_Distance_Person_Day    -6.119606\n",
      "17  Average_Dwell_Cluster_Duration     2.258963\n",
      "18          Average_POI_Dwell_time     3.645502\n",
      "19                Percent_Sampling    -2.084736\n"
     ]
    }
   ],
   "source": [
    "# Create linear regression object\n",
    "regr = linear_model.LinearRegression()\n",
    "\n",
    "# Train the model using the training sets\n",
    "regr.fit(X_train, y_train)\n",
    "\n",
    "# Make predictions using the testing set\n",
    "y_pred = regr.predict(X_test)\n",
    "            \n",
    "print('Mean Absolute Error:', metrics.mean_absolute_error(y_test, y_pred))\n",
    "print('Mean Squared Error:', metrics.mean_squared_error(y_test, y_pred))\n",
    "print('Root Mean Squared Error:', math.sqrt(metrics.mean_squared_error(y_test, y_pred)))\n",
    "print('R2 Score:', metrics.r2_score(y_test, y_pred))            \n",
    "\n",
    "coefficients = pd.concat([pd.DataFrame(Feature_Set.columns),pd.DataFrame(np.transpose(regr.coef_))], axis = 1)\n",
    "coefficients.columns=['Variable','Coefficient']\n",
    "print(coefficients)"
   ]
  },
  {
   "cell_type": "markdown",
   "metadata": {},
   "source": [
    "# XGBOOST"
   ]
  },
  {
   "cell_type": "code",
   "execution_count": 24,
   "metadata": {},
   "outputs": [
    {
     "data": {
      "text/plain": [
       "XGBRegressor(base_score=0.5, booster='gbtree', colsample_bylevel=1,\n",
       "             colsample_bynode=1, colsample_bytree=1, gamma=1, gpu_id=-1,\n",
       "             importance_type='gain', interaction_constraints='',\n",
       "             learning_rate=0.01, max_delta_step=0, max_depth=6,\n",
       "             min_child_weight=1, missing=nan, monotone_constraints='()',\n",
       "             n_estimators=1000, n_jobs=0, num_parallel_tree=1,\n",
       "             objective='reg:squarederror', random_state=10, reg_alpha=0,\n",
       "             reg_lambda=1, scale_pos_weight=1, seed=10, subsample=1,\n",
       "             tree_method='exact', validate_parameters=1, verbosity=None)"
      ]
     },
     "execution_count": 24,
     "metadata": {},
     "output_type": "execute_result"
    }
   ],
   "source": [
    "reg = xgb.XGBRegressor(n_estimators=1000,        \n",
    "                       gamma=1,\n",
    "                       learning_rate=0.01,seed=10,\n",
    "                       objective='reg:squarederror')\n",
    "reg.fit(X_train, y_train,verbose=True)\n",
    "#max_depth=8, max_leaves=2 ** 8,alpha=0.9, eta=0.1,"
   ]
  },
  {
   "cell_type": "code",
   "execution_count": 26,
   "metadata": {},
   "outputs": [
    {
     "data": {
      "text/plain": [
       "[Text(0, 0, 'Renter_Occp_HU_CEN_2010'),\n",
       " Text(0, 0, 'Female_No_HB_CEN_2010'),\n",
       " Text(0, 0, 'NH_White_alone_CEN_2010'),\n",
       " Text(0, 0, 'Rel_Child_Under_6_CEN_2010'),\n",
       " Text(0, 0, 'MrdCple_Fmly_HHD_CEN_2010'),\n",
       " Text(0, 0, 'Tot_Vacant_Units_CEN_2010'),\n",
       " Text(0, 0, 'College_ACS_08_12'),\n",
       " Text(0, 0, 'Med_House_Value_BG_ACS_08_12'),\n",
       " Text(0, 0, 'HHD_Moved_in_ACS_08_12'),\n",
       " Text(0, 0, 'Hispanic_CEN_2010'),\n",
       " Text(0, 0, 'Single_Unit_ACS_08_12'),\n",
       " Text(0, 0, 'Diff_HU_1yr_Ago_ACS_08_12'),\n",
       " Text(0, 0, 'Prs_Blw_Pov_Lev_ACS_08_12'),\n",
       " Text(0, 0, 'Pop_18_24_CEN_2010'),\n",
       " Text(0, 0, 'NH_Blk_alone_CEN_2010'),\n",
       " Text(0, 0, 'Sngl_Prns_HHD_CEN_2010'),\n",
       " Text(0, 0, 'Not_HS_Grad_ACS_08_12')]"
      ]
     },
     "execution_count": 26,
     "metadata": {},
     "output_type": "execute_result"
    },
    {
     "data": {
      "image/png": "[encoded data removed]",
      "text/plain": [
       "<Figure size 432x288 with 1 Axes>"
      ]
     },
     "metadata": {
      "needs_background": "light"
     },
     "output_type": "display_data"
    }
   ],
   "source": [
    "plot_importance(reg, height=2).set_yticklabels(['Renter_Occp_HU_CEN_2010','Female_No_HB_CEN_2010','NH_White_alone_CEN_2010','Rel_Child_Under_6_CEN_2010',\\\n",
    "                      'MrdCple_Fmly_HHD_CEN_2010','Tot_Vacant_Units_CEN_2010','College_ACS_08_12','Med_House_Value_BG_ACS_08_12',\\\n",
    "                      'HHD_Moved_in_ACS_08_12','Hispanic_CEN_2010','Single_Unit_ACS_08_12','Diff_HU_1yr_Ago_ACS_08_12',\\\n",
    "                      'Prs_Blw_Pov_Lev_ACS_08_12','Pop_18_24_CEN_2010','NH_Blk_alone_CEN_2010','Sngl_Prns_HHD_CEN_2010','Not_HS_Grad_ACS_08_12'])"
   ]
  },
  {
   "cell_type": "code",
   "execution_count": 48,
   "metadata": {},
   "outputs": [],
   "source": [
    "predicted = reg.predict(X_test)"
   ]
  },
  {
   "cell_type": "code",
   "execution_count": 49,
   "metadata": {},
   "outputs": [
    {
     "name": "stdout",
     "output_type": "stream",
     "text": [
      "The R2 of the XGBoost Model is  0.5740037454844984\n"
     ]
    }
   ],
   "source": [
    "scores = r2_score(y_test,predicted) \n",
    "print(\"The R2 of the XGBoost Model is \",scores)"
   ]
  },
  {
   "cell_type": "markdown",
   "metadata": {},
   "source": [
    "# Random Forest"
   ]
  },
  {
   "cell_type": "markdown",
   "metadata": {},
   "source": [
    "https://scikit-learn.org/stable/modules/generated/sklearn.ensemble.RandomForestRegressor.html"
   ]
  },
  {
   "cell_type": "code",
   "execution_count": 3,
   "metadata": {
    "collapsed": true,
    "jupyter": {
     "outputs_hidden": true
    }
   },
   "outputs": [
    {
     "ename": "NameError",
     "evalue": "name 'X_train' is not defined",
     "output_type": "error",
     "traceback": [
      "\u001b[0;31m---------------------------------------------------------------------------\u001b[0m",
      "\u001b[0;31mNameError\u001b[0m                                 Traceback (most recent call last)",
      "\u001b[0;32m<ipython-input-3-d6abdc925e4c>\u001b[0m in \u001b[0;36m<module>\u001b[0;34m\u001b[0m\n\u001b[1;32m      4\u001b[0m \u001b[0;34m\u001b[0m\u001b[0m\n\u001b[1;32m      5\u001b[0m \u001b[0;31m# Train the model on training data\u001b[0m\u001b[0;34m\u001b[0m\u001b[0;34m\u001b[0m\u001b[0;34m\u001b[0m\u001b[0m\n\u001b[0;32m----> 6\u001b[0;31m \u001b[0mrf\u001b[0m\u001b[0;34m.\u001b[0m\u001b[0mfit\u001b[0m\u001b[0;34m(\u001b[0m\u001b[0mX_train\u001b[0m\u001b[0;34m,\u001b[0m \u001b[0my_train\u001b[0m\u001b[0;34m)\u001b[0m\u001b[0;34m;\u001b[0m\u001b[0;34m\u001b[0m\u001b[0;34m\u001b[0m\u001b[0m\n\u001b[0m",
      "\u001b[0;31mNameError\u001b[0m: name 'X_train' is not defined"
     ]
    }
   ],
   "source": [
    "from sklearn.ensemble import RandomForestRegressor\n",
    "\n",
    "rf = RandomForestRegressor(n_estimators = 1000, random_state = 42)\n",
    "\n",
    "# Train the model on training data\n",
    "rf.fit(X_train, y_train);"
   ]
  },
  {
   "cell_type": "code",
   "execution_count": 28,
   "metadata": {},
   "outputs": [],
   "source": [
    "y_pred=rf.predict(X_test)"
   ]
  },
  {
   "cell_type": "code",
   "execution_count": 29,
   "metadata": {},
   "outputs": [
    {
     "name": "stdout",
     "output_type": "stream",
     "text": [
      "Mean Absolute Error: 4.094660874922982\n",
      "Mean Squared Error: 33.38319807119531\n",
      "Root Mean Squared Error: 5.7778194910532905\n",
      "R2 Score: 0.5569273248411765\n"
     ]
    }
   ],
   "source": [
    "print('Mean Absolute Error:', metrics.mean_absolute_error(y_test, y_pred))\n",
    "print('Mean Squared Error:', metrics.mean_squared_error(y_test, y_pred))\n",
    "print('Root Mean Squared Error:', math.sqrt(metrics.mean_squared_error(y_test, y_pred)))\n",
    "print('R2 Score:', metrics.r2_score(y_test, y_pred))"
   ]
  },
  {
   "cell_type": "code",
   "execution_count": 55,
   "metadata": {},
   "outputs": [],
   "source": [
    "#Sample Decision tree Regressor to Visualise the tree structure\n",
    "from sklearn import tree\n",
    "clf = tree.DecisionTreeRegressor()\n",
    "clf = clf.fit(X_train, y_train)\n",
    "from sklearn.tree import export_graphviz  \n",
    "  \n",
    "# export the decision tree to a tree.dot file \n",
    "# for visualizing the plot easily anywhere \n",
    "export_graphviz(clf, out_file ='tree.dot')"
   ]
  },
  {
   "cell_type": "code",
   "execution_count": 59,
   "metadata": {},
   "outputs": [
    {
     "name": "stdout",
     "output_type": "stream",
     "text": [
      "Requirement already satisfied: graphviz in /opt/conda/lib/python3.7/site-packages (0.14.2)\n"
     ]
    }
   ],
   "source": [
    "!pip install graphviz\n",
    "from graphviz import Digraph"
   ]
  },
  {
   "cell_type": "code",
   "execution_count": 61,
   "metadata": {},
   "outputs": [
    {
     "name": "stdout",
     "output_type": "stream",
     "text": [
      "Collecting pydot\n",
      "  Downloading pydot-1.4.1-py2.py3-none-any.whl (19 kB)\n",
      "Requirement already satisfied: pyparsing>=2.1.4 in /opt/conda/lib/python3.7/site-packages (from pydot) (2.4.7)\n",
      "Installing collected packages: pydot\n",
      "Successfully installed pydot-1.4.1\n"
     ]
    }
   ],
   "source": [
    "!pip install pydot"
   ]
  },
  {
   "cell_type": "code",
   "execution_count": 62,
   "metadata": {},
   "outputs": [
    {
     "name": "stdout",
     "output_type": "stream",
     "text": [
      "/bin/bash: dot: command not found\n"
     ]
    }
   ],
   "source": [
    "!dot -Tpng tree_limited.dot -o tree_limited.png -Gdpi=600"
   ]
  },
  {
   "cell_type": "markdown",
   "metadata": {},
   "source": [
    "# ML Flow Implementation"
   ]
  },
  {
   "cell_type": "markdown",
   "metadata": {},
   "source": [
    "https://mlflow.org/"
   ]
  },
  {
   "cell_type": "markdown",
   "metadata": {},
   "source": [
    " MLflow is an open source platform for managing the end-to-end machine learning lifecycle. It tackles four primary functions:\n",
    "        \n",
    " 1. Tracking experiments to record and compare parameters and results (MLflow Tracking).\n",
    "\n",
    " 2. Packaging ML code in a reusable, reproducible form in order to share with other data scientists or transfer to production (MLflow Projects).\n",
    "\n",
    " 3. Managing and deploying models from a variety of ML libraries to a variety of model serving and inference platforms (MLflow Models).\n",
    "\n",
    " 4. Providing a central model store to collaboratively manage the full lifecycle of an MLflow Model, including model versioning, stage transitions, and annotations (MLflow Model Registry).\n",
    "\n",
    "Default ML Flow UX shows model runs, input params and output result metrics. It also supports model coomparison on a flexible basis."
   ]
  },
  {
   "cell_type": "code",
   "execution_count": 7,
   "metadata": {},
   "outputs": [],
   "source": [
    "import xgboost as xgb\n",
    "from xgboost.sklearn import XGBRegressor\n",
    "from sklearn.metrics import *"
   ]
  },
  {
   "cell_type": "markdown",
   "metadata": {},
   "source": [
    "Launch mlflow server on commandline"
   ]
  },
  {
   "cell_type": "code",
   "execution_count": 29,
   "metadata": {},
   "outputs": [
    {
     "name": "stdout",
     "output_type": "stream",
     "text": [
      "[2020-10-05 20:56:27 +0000] [269] [INFO] Starting gunicorn 20.0.4\n",
      "[2020-10-05 20:56:27 +0000] [269] [INFO] Listening at: http://0.0.0.0:5000 (269)\n",
      "[2020-10-05 20:56:27 +0000] [269] [INFO] Using worker: sync\n",
      "[2020-10-05 20:56:27 +0000] [272] [INFO] Booting worker with pid: 272\n",
      "[2020-10-05 20:56:27 +0000] [273] [INFO] Booting worker with pid: 273\n",
      "[2020-10-05 20:56:27 +0000] [274] [INFO] Booting worker with pid: 274\n",
      "[2020-10-05 20:56:27 +0000] [275] [INFO] Booting worker with pid: 275\n",
      "^C\n",
      "[2020-10-05 21:01:23 +0000] [269] [INFO] Handling signal: int\n",
      "[2020-10-05 21:01:23 +0000] [273] [INFO] Worker exiting (pid: 273)\n",
      "[2020-10-05 21:01:23 +0000] [274] [INFO] Worker exiting (pid: 274)\n",
      "[2020-10-05 21:01:23 +0000] [272] [INFO] Worker exiting (pid: 272)\n",
      "[2020-10-05 21:01:23 +0000] [275] [INFO] Worker exiting (pid: 275)\n"
     ]
    }
   ],
   "source": [
    "!mlflow server --default-artifact-root ./mlflow/mlflow/0 -h 0.0.0.0"
   ]
  },
  {
   "cell_type": "markdown",
   "metadata": {},
   "source": [
    "# Elastic Net Model"
   ]
  },
  {
   "cell_type": "code",
   "execution_count": 21,
   "metadata": {},
   "outputs": [
    {
     "data": {
      "text/plain": [
       "'./mlruns/0/5a9346f767d84001ac45477c897f6cb5/artifacts'"
      ]
     },
     "execution_count": 21,
     "metadata": {},
     "output_type": "execute_result"
    }
   ],
   "source": [
    "remote_server_uri = \"http://mlflowui:5000\" # set to your server URI\n",
    "mlflow.set_tracking_uri(remote_server_uri)\n",
    "mlflow.get_artifact_uri()   "
   ]
  },
  {
   "cell_type": "code",
   "execution_count": 22,
   "metadata": {},
   "outputs": [],
   "source": [
    "# Run from the root of MLflow\n",
    "def train(in_alpha, in_l1_ratio):\n",
    "    from sklearn.metrics import mean_squared_error, mean_absolute_error, r2_score\n",
    "    from sklearn.model_selection import train_test_split\n",
    "    from sklearn.linear_model import ElasticNet\n",
    "\n",
    "    def eval_metrics(actual, pred):\n",
    "        rmse = np.sqrt(mean_squared_error(actual, pred))\n",
    "        mae = mean_absolute_error(actual, pred)\n",
    "        r2 = r2_score(actual, pred)\n",
    "        return rmse, mae, r2\n",
    "\n",
    "    warnings.filterwarnings(\"ignore\")\n",
    "    np.random.seed(40)\n",
    "\n",
    "    # The predicted column is \"quality\" which is a scalar from [3, 9]\n",
    "    train_x = Feature_Set\n",
    "    test_x = Feature_Set\n",
    "    train_y = Dependent_Variable\n",
    "    test_y = Dependent_Variable\n",
    "\n",
    "    # Set default values if no alpha is provided\n",
    "    if float(in_alpha) is None:\n",
    "        alpha = 0.5\n",
    "    else:\n",
    "        alpha = float(in_alpha)\n",
    "\n",
    "    # Set default values if no l1_ratio is provided\n",
    "    if float(in_l1_ratio) is None:\n",
    "        l1_ratio = 0.5\n",
    "    else:\n",
    "        l1_ratio = float(in_l1_ratio)\n",
    "\n",
    "    # Useful for multiple runs (only doing one run in this sample notebook)    \n",
    "    with mlflow.start_run(run_name=\"Elastic_Net_Model_Undercount_xmode_High_Sample\"):\n",
    "        # Execute ElasticNet\n",
    "        lr = ElasticNet(alpha=alpha, l1_ratio=l1_ratio, random_state=42)\n",
    "        lr.fit(train_x, train_y)\n",
    "\n",
    "        # Evaluate Metrics\n",
    "        predicted_qualities = lr.predict(test_x)\n",
    "        (rmse, mae, r2) = eval_metrics(test_y, predicted_qualities)\n",
    "\n",
    "        # Print out metrics\n",
    "        print(\"Elasticnet model (alpha=%f, l1_ratio=%f):\" % (alpha, l1_ratio))\n",
    "        print(\"  RMSE: %s\" % rmse)\n",
    "        print(\"  MAE: %s\" % mae)\n",
    "        print(\"  R2: %s\" % r2)\n",
    "\n",
    "        # Log parameter, metrics, and model to MLflow\n",
    "        mlflow.log_param(\"alpha\", alpha)\n",
    "        mlflow.log_param(\"l1_ratio\", l1_ratio)\n",
    "        mlflow.log_param(\"Coefficeients\",lr.coef_)\n",
    "        mlflow.log_metric(\"rmse\", rmse)\n",
    "        mlflow.log_metric(\"r2\", r2)\n",
    "        mlflow.log_metric(\"mae\", mae)\n",
    "\n",
    "        mlflow.sklearn.log_model(lr, \"model\")"
   ]
  },
  {
   "cell_type": "code",
   "execution_count": 23,
   "metadata": {
    "collapsed": true,
    "jupyter": {
     "outputs_hidden": true
    }
   },
   "outputs": [
    {
     "ename": "Exception",
     "evalue": "Run with UUID 5a9346f767d84001ac45477c897f6cb5 is already active. To start a new run, first end the current run with mlflow.end_run(). To start a nested run, call start_run with nested=True",
     "output_type": "error",
     "traceback": [
      "\u001b[0;31m---------------------------------------------------------------------------\u001b[0m",
      "\u001b[0;31mException\u001b[0m                                 Traceback (most recent call last)",
      "\u001b[0;32m<ipython-input-23-4851f6c5defc>\u001b[0m in \u001b[0;36m<module>\u001b[0;34m\u001b[0m\n\u001b[1;32m      1\u001b[0m \u001b[0;31m#Taking alpha as 0.5, and l1 ratio as 0.5\u001b[0m\u001b[0;34m\u001b[0m\u001b[0;34m\u001b[0m\u001b[0;34m\u001b[0m\u001b[0m\n\u001b[1;32m      2\u001b[0m \u001b[0;34m\u001b[0m\u001b[0m\n\u001b[0;32m----> 3\u001b[0;31m \u001b[0mtrain\u001b[0m\u001b[0;34m(\u001b[0m\u001b[0;36m0.5\u001b[0m\u001b[0;34m,\u001b[0m\u001b[0;36m0.5\u001b[0m\u001b[0;34m)\u001b[0m\u001b[0;34m\u001b[0m\u001b[0;34m\u001b[0m\u001b[0m\n\u001b[0m",
      "\u001b[0;32m<ipython-input-22-8eda86793509>\u001b[0m in \u001b[0;36mtrain\u001b[0;34m(in_alpha, in_l1_ratio)\u001b[0m\n\u001b[1;32m     48\u001b[0m \u001b[0;34m\u001b[0m\u001b[0m\n\u001b[1;32m     49\u001b[0m     \u001b[0;31m# Useful for multiple runs (only doing one run in this sample notebook)\u001b[0m\u001b[0;34m\u001b[0m\u001b[0;34m\u001b[0m\u001b[0;34m\u001b[0m\u001b[0m\n\u001b[0;32m---> 50\u001b[0;31m     \u001b[0;32mwith\u001b[0m \u001b[0mmlflow\u001b[0m\u001b[0;34m.\u001b[0m\u001b[0mstart_run\u001b[0m\u001b[0;34m(\u001b[0m\u001b[0mrun_name\u001b[0m\u001b[0;34m=\u001b[0m\u001b[0;34m\"Elastic_Net_Model_Undercount_xmode_High_Sample\"\u001b[0m\u001b[0;34m)\u001b[0m\u001b[0;34m:\u001b[0m\u001b[0;34m\u001b[0m\u001b[0;34m\u001b[0m\u001b[0m\n\u001b[0m\u001b[1;32m     51\u001b[0m         \u001b[0;31m# Execute ElasticNet\u001b[0m\u001b[0;34m\u001b[0m\u001b[0;34m\u001b[0m\u001b[0;34m\u001b[0m\u001b[0m\n\u001b[1;32m     52\u001b[0m         \u001b[0mlr\u001b[0m \u001b[0;34m=\u001b[0m \u001b[0mElasticNet\u001b[0m\u001b[0;34m(\u001b[0m\u001b[0malpha\u001b[0m\u001b[0;34m=\u001b[0m\u001b[0malpha\u001b[0m\u001b[0;34m,\u001b[0m \u001b[0ml1_ratio\u001b[0m\u001b[0;34m=\u001b[0m\u001b[0ml1_ratio\u001b[0m\u001b[0;34m,\u001b[0m \u001b[0mrandom_state\u001b[0m\u001b[0;34m=\u001b[0m\u001b[0;36m42\u001b[0m\u001b[0;34m)\u001b[0m\u001b[0;34m\u001b[0m\u001b[0;34m\u001b[0m\u001b[0m\n",
      "\u001b[0;32m/opt/conda/lib/python3.7/site-packages/mlflow/tracking/fluent.py\u001b[0m in \u001b[0;36mstart_run\u001b[0;34m(run_id, experiment_id, run_name, nested)\u001b[0m\n\u001b[1;32m    111\u001b[0m                 \u001b[0;34m+\u001b[0m \u001b[0;34m\"current run with mlflow.end_run(). To start a nested \"\u001b[0m\u001b[0;34m\u001b[0m\u001b[0;34m\u001b[0m\u001b[0m\n\u001b[1;32m    112\u001b[0m                 \u001b[0;34m+\u001b[0m \u001b[0;34m\"run, call start_run with nested=True\"\u001b[0m\u001b[0;34m\u001b[0m\u001b[0;34m\u001b[0m\u001b[0m\n\u001b[0;32m--> 113\u001b[0;31m             ).format(_active_run_stack[0].info.run_id)\n\u001b[0m\u001b[1;32m    114\u001b[0m         )\n\u001b[1;32m    115\u001b[0m     \u001b[0;32mif\u001b[0m \u001b[0mrun_id\u001b[0m\u001b[0;34m:\u001b[0m\u001b[0;34m\u001b[0m\u001b[0;34m\u001b[0m\u001b[0m\n",
      "\u001b[0;31mException\u001b[0m: Run with UUID 5a9346f767d84001ac45477c897f6cb5 is already active. To start a new run, first end the current run with mlflow.end_run(). To start a nested run, call start_run with nested=True"
     ]
    }
   ],
   "source": [
    "#Taking alpha as 0.5, and l1 ratio as 0.5\n",
    "\n",
    "train(0.5,0.5)"
   ]
  },
  {
   "cell_type": "markdown",
   "metadata": {},
   "source": [
    "# XG Boost_MLFlow"
   ]
  },
  {
   "cell_type": "code",
   "execution_count": 12,
   "metadata": {},
   "outputs": [
    {
     "name": "stdout",
     "output_type": "stream",
     "text": [
      "http://mlflowui:5000\n"
     ]
    }
   ],
   "source": [
    "remote_server_uri = \"http://mlflowui:5000\" # set to your server URI\n",
    "mlflow.set_tracking_uri(remote_server_uri)  \n",
    "\n",
    "train_features=X_train\n",
    "train_labels=y_train\n",
    "test_features=X_test\n",
    "test_labels=y_test\n",
    "print(remote_server_uri)"
   ]
  },
  {
   "cell_type": "code",
   "execution_count": 13,
   "metadata": {},
   "outputs": [
    {
     "name": "stdout",
     "output_type": "stream",
     "text": [
      "{'f0': 4076, 'f2': 3007, 'f17': 2856, 'f16': 2139, 'f20': 1382, 'f11': 2099, 'f9': 3536, 'f3': 1555, 'f6': 2808, 'f4': 2062, 'f1': 2942, 'f10': 2696, 'f15': 2007, 'f21': 1427, 'f12': 2381, 'f5': 3134, 'f18': 1473, 'f14': 2338, 'f13': 2134, 'f8': 1364, 'f22': 1053, 'f19': 1991, 'f7': 37}\n",
      "R2_Score:  0.5955591458070284\n",
      ".mlruns/mlruns/0/638568605c98473a819aa414d936cebc/artifacts\n"
     ]
    },
    {
     "data": {
      "image/png": "[encoded data removed]",
      "text/plain": [
       "<Figure size 432x288 with 1 Axes>"
      ]
     },
     "metadata": {},
     "output_type": "display_data"
    }
   ],
   "source": [
    "mlflow.end_run()\n",
    "\n",
    "with mlflow.start_run(run_name=\"XGBoost_Undercount_High_Sample\") as run:\n",
    "        \n",
    "    # model parameters\n",
    "    params = {'learning_rate': 0.01, 'n_estimators': 1000, 'seed': 10,\n",
    "                  'objective': 'reg:squarederror', 'gamma':1}\n",
    "\n",
    "    # log model params\n",
    "    for key in params:\n",
    "        mlflow.log_param(key, params[key])\n",
    "\n",
    "    # train XGBoost model\n",
    "    gbtree = XGBRegressor(**params)\n",
    "    gbtree.fit(train_features, train_labels)\n",
    "\n",
    "    importances = gbtree.get_booster().get_fscore()\n",
    "    print(importances)\n",
    "\n",
    "    # get predictions\n",
    "    y_pred = gbtree.predict(test_features)\n",
    "\n",
    "    r2 = r2_score(test_labels, y_pred)\n",
    "    print(\"R2_Score: \", r2)\n",
    "    \n",
    "    # log accuracy metric\n",
    "    mlflow.log_metric(\"r2\", r2)\n",
    "\n",
    "    sns.set(font_scale=1)\n",
    "    xgb.plot_importance(gbtree)\n",
    "    plt.savefig(\"importance.png\", dpi = 200, bbox_inches = \"tight\")\n",
    "    run_id=run.info.run_id\n",
    "    arti='.mlruns/mlruns/0/'+run_id+'/artifacts'\n",
    "    print(arti)\n",
    "    mlflow.log_artifact(\"importance.png\",artifact_path=arti)\n",
    "    #artifact_path = mlflow.get_artifact_uri()\n",
    "\n",
    "    # log model\n",
    "    mlflow.sklearn.log_model(gbtree, \"model\")"
   ]
  },
  {
   "cell_type": "code",
   "execution_count": 15,
   "metadata": {},
   "outputs": [
    {
     "name": "stdout",
     "output_type": "stream",
     "text": [
      "./mlruns/0/69b78653420548e28d9adbbb1b408b1f/artifacts\n"
     ]
    }
   ],
   "source": [
    "print(artifact_path)"
   ]
  },
  {
   "cell_type": "markdown",
   "metadata": {},
   "source": [
    "# Random Forest ML Flow"
   ]
  },
  {
   "cell_type": "code",
   "execution_count": 16,
   "metadata": {},
   "outputs": [
    {
     "name": "stdout",
     "output_type": "stream",
     "text": [
      "http://mlflowui:5000\n"
     ]
    }
   ],
   "source": [
    "print(mlflow.get_tracking_uri())"
   ]
  },
  {
   "cell_type": "code",
   "execution_count": 48,
   "metadata": {
    "collapsed": true,
    "jupyter": {
     "outputs_hidden": true
    }
   },
   "outputs": [
    {
     "ename": "KeyboardInterrupt",
     "evalue": "",
     "output_type": "error",
     "traceback": [
      "\u001b[0;31m---------------------------------------------------------------------------\u001b[0m",
      "\u001b[0;31mKeyboardInterrupt\u001b[0m                         Traceback (most recent call last)",
      "\u001b[0;32m<ipython-input-48-374dadd872a9>\u001b[0m in \u001b[0;36m<module>\u001b[0;34m\u001b[0m\n\u001b[1;32m     13\u001b[0m     \u001b[0;31m# train XGBoost model\u001b[0m\u001b[0;34m\u001b[0m\u001b[0;34m\u001b[0m\u001b[0;34m\u001b[0m\u001b[0m\n\u001b[1;32m     14\u001b[0m     \u001b[0mRFtree\u001b[0m \u001b[0;34m=\u001b[0m \u001b[0mRandomForestRegressor\u001b[0m\u001b[0;34m(\u001b[0m\u001b[0;34m**\u001b[0m\u001b[0mparams\u001b[0m\u001b[0;34m)\u001b[0m\u001b[0;34m\u001b[0m\u001b[0;34m\u001b[0m\u001b[0m\n\u001b[0;32m---> 15\u001b[0;31m     \u001b[0mRFtree\u001b[0m\u001b[0;34m.\u001b[0m\u001b[0mfit\u001b[0m\u001b[0;34m(\u001b[0m\u001b[0mtrain_features\u001b[0m\u001b[0;34m,\u001b[0m \u001b[0mtrain_labels\u001b[0m\u001b[0;34m)\u001b[0m\u001b[0;34m\u001b[0m\u001b[0;34m\u001b[0m\u001b[0m\n\u001b[0m\u001b[1;32m     16\u001b[0m \u001b[0;34m\u001b[0m\u001b[0m\n\u001b[1;32m     17\u001b[0m \u001b[0;34m\u001b[0m\u001b[0m\n",
      "\u001b[0;32m/opt/conda/lib/python3.7/site-packages/sklearn/ensemble/_forest.py\u001b[0m in \u001b[0;36mfit\u001b[0;34m(self, X, y, sample_weight)\u001b[0m\n\u001b[1;32m    381\u001b[0m                     \u001b[0mverbose\u001b[0m\u001b[0;34m=\u001b[0m\u001b[0mself\u001b[0m\u001b[0;34m.\u001b[0m\u001b[0mverbose\u001b[0m\u001b[0;34m,\u001b[0m \u001b[0mclass_weight\u001b[0m\u001b[0;34m=\u001b[0m\u001b[0mself\u001b[0m\u001b[0;34m.\u001b[0m\u001b[0mclass_weight\u001b[0m\u001b[0;34m,\u001b[0m\u001b[0;34m\u001b[0m\u001b[0;34m\u001b[0m\u001b[0m\n\u001b[1;32m    382\u001b[0m                     n_samples_bootstrap=n_samples_bootstrap)\n\u001b[0;32m--> 383\u001b[0;31m                 for i, t in enumerate(trees))\n\u001b[0m\u001b[1;32m    384\u001b[0m \u001b[0;34m\u001b[0m\u001b[0m\n\u001b[1;32m    385\u001b[0m             \u001b[0;31m# Collect newly grown trees\u001b[0m\u001b[0;34m\u001b[0m\u001b[0;34m\u001b[0m\u001b[0;34m\u001b[0m\u001b[0m\n",
      "\u001b[0;32m/opt/conda/lib/python3.7/site-packages/joblib/parallel.py\u001b[0m in \u001b[0;36m__call__\u001b[0;34m(self, iterable)\u001b[0m\n\u001b[1;32m   1030\u001b[0m                 \u001b[0mself\u001b[0m\u001b[0;34m.\u001b[0m\u001b[0m_iterating\u001b[0m \u001b[0;34m=\u001b[0m \u001b[0mself\u001b[0m\u001b[0;34m.\u001b[0m\u001b[0m_original_iterator\u001b[0m \u001b[0;32mis\u001b[0m \u001b[0;32mnot\u001b[0m \u001b[0;32mNone\u001b[0m\u001b[0;34m\u001b[0m\u001b[0;34m\u001b[0m\u001b[0m\n\u001b[1;32m   1031\u001b[0m \u001b[0;34m\u001b[0m\u001b[0m\n\u001b[0;32m-> 1032\u001b[0;31m             \u001b[0;32mwhile\u001b[0m \u001b[0mself\u001b[0m\u001b[0;34m.\u001b[0m\u001b[0mdispatch_one_batch\u001b[0m\u001b[0;34m(\u001b[0m\u001b[0miterator\u001b[0m\u001b[0;34m)\u001b[0m\u001b[0;34m:\u001b[0m\u001b[0;34m\u001b[0m\u001b[0;34m\u001b[0m\u001b[0m\n\u001b[0m\u001b[1;32m   1033\u001b[0m                 \u001b[0;32mpass\u001b[0m\u001b[0;34m\u001b[0m\u001b[0;34m\u001b[0m\u001b[0m\n\u001b[1;32m   1034\u001b[0m \u001b[0;34m\u001b[0m\u001b[0m\n",
      "\u001b[0;32m/opt/conda/lib/python3.7/site-packages/joblib/parallel.py\u001b[0m in \u001b[0;36mdispatch_one_batch\u001b[0;34m(self, iterator)\u001b[0m\n\u001b[1;32m    845\u001b[0m                 \u001b[0;32mreturn\u001b[0m \u001b[0;32mFalse\u001b[0m\u001b[0;34m\u001b[0m\u001b[0;34m\u001b[0m\u001b[0m\n\u001b[1;32m    846\u001b[0m             \u001b[0;32melse\u001b[0m\u001b[0;34m:\u001b[0m\u001b[0;34m\u001b[0m\u001b[0;34m\u001b[0m\u001b[0m\n\u001b[0;32m--> 847\u001b[0;31m                 \u001b[0mself\u001b[0m\u001b[0;34m.\u001b[0m\u001b[0m_dispatch\u001b[0m\u001b[0;34m(\u001b[0m\u001b[0mtasks\u001b[0m\u001b[0;34m)\u001b[0m\u001b[0;34m\u001b[0m\u001b[0;34m\u001b[0m\u001b[0m\n\u001b[0m\u001b[1;32m    848\u001b[0m                 \u001b[0;32mreturn\u001b[0m \u001b[0;32mTrue\u001b[0m\u001b[0;34m\u001b[0m\u001b[0;34m\u001b[0m\u001b[0m\n\u001b[1;32m    849\u001b[0m \u001b[0;34m\u001b[0m\u001b[0m\n",
      "\u001b[0;32m/opt/conda/lib/python3.7/site-packages/joblib/parallel.py\u001b[0m in \u001b[0;36m_dispatch\u001b[0;34m(self, batch)\u001b[0m\n\u001b[1;32m    763\u001b[0m         \u001b[0;32mwith\u001b[0m \u001b[0mself\u001b[0m\u001b[0;34m.\u001b[0m\u001b[0m_lock\u001b[0m\u001b[0;34m:\u001b[0m\u001b[0;34m\u001b[0m\u001b[0;34m\u001b[0m\u001b[0m\n\u001b[1;32m    764\u001b[0m             \u001b[0mjob_idx\u001b[0m \u001b[0;34m=\u001b[0m \u001b[0mlen\u001b[0m\u001b[0;34m(\u001b[0m\u001b[0mself\u001b[0m\u001b[0;34m.\u001b[0m\u001b[0m_jobs\u001b[0m\u001b[0;34m)\u001b[0m\u001b[0;34m\u001b[0m\u001b[0;34m\u001b[0m\u001b[0m\n\u001b[0;32m--> 765\u001b[0;31m             \u001b[0mjob\u001b[0m \u001b[0;34m=\u001b[0m \u001b[0mself\u001b[0m\u001b[0;34m.\u001b[0m\u001b[0m_backend\u001b[0m\u001b[0;34m.\u001b[0m\u001b[0mapply_async\u001b[0m\u001b[0;34m(\u001b[0m\u001b[0mbatch\u001b[0m\u001b[0;34m,\u001b[0m \u001b[0mcallback\u001b[0m\u001b[0;34m=\u001b[0m\u001b[0mcb\u001b[0m\u001b[0;34m)\u001b[0m\u001b[0;34m\u001b[0m\u001b[0;34m\u001b[0m\u001b[0m\n\u001b[0m\u001b[1;32m    766\u001b[0m             \u001b[0;31m# A job can complete so quickly than its callback is\u001b[0m\u001b[0;34m\u001b[0m\u001b[0;34m\u001b[0m\u001b[0;34m\u001b[0m\u001b[0m\n\u001b[1;32m    767\u001b[0m             \u001b[0;31m# called before we get here, causing self._jobs to\u001b[0m\u001b[0;34m\u001b[0m\u001b[0;34m\u001b[0m\u001b[0;34m\u001b[0m\u001b[0m\n",
      "\u001b[0;32m/opt/conda/lib/python3.7/site-packages/joblib/_parallel_backends.py\u001b[0m in \u001b[0;36mapply_async\u001b[0;34m(self, func, callback)\u001b[0m\n\u001b[1;32m    206\u001b[0m     \u001b[0;32mdef\u001b[0m \u001b[0mapply_async\u001b[0m\u001b[0;34m(\u001b[0m\u001b[0mself\u001b[0m\u001b[0;34m,\u001b[0m \u001b[0mfunc\u001b[0m\u001b[0;34m,\u001b[0m \u001b[0mcallback\u001b[0m\u001b[0;34m=\u001b[0m\u001b[0;32mNone\u001b[0m\u001b[0;34m)\u001b[0m\u001b[0;34m:\u001b[0m\u001b[0;34m\u001b[0m\u001b[0;34m\u001b[0m\u001b[0m\n\u001b[1;32m    207\u001b[0m         \u001b[0;34m\"\"\"Schedule a func to be run\"\"\"\u001b[0m\u001b[0;34m\u001b[0m\u001b[0;34m\u001b[0m\u001b[0m\n\u001b[0;32m--> 208\u001b[0;31m         \u001b[0mresult\u001b[0m \u001b[0;34m=\u001b[0m \u001b[0mImmediateResult\u001b[0m\u001b[0;34m(\u001b[0m\u001b[0mfunc\u001b[0m\u001b[0;34m)\u001b[0m\u001b[0;34m\u001b[0m\u001b[0;34m\u001b[0m\u001b[0m\n\u001b[0m\u001b[1;32m    209\u001b[0m         \u001b[0;32mif\u001b[0m \u001b[0mcallback\u001b[0m\u001b[0;34m:\u001b[0m\u001b[0;34m\u001b[0m\u001b[0;34m\u001b[0m\u001b[0m\n\u001b[1;32m    210\u001b[0m             \u001b[0mcallback\u001b[0m\u001b[0;34m(\u001b[0m\u001b[0mresult\u001b[0m\u001b[0;34m)\u001b[0m\u001b[0;34m\u001b[0m\u001b[0;34m\u001b[0m\u001b[0m\n",
      "\u001b[0;32m/opt/conda/lib/python3.7/site-packages/joblib/_parallel_backends.py\u001b[0m in \u001b[0;36m__init__\u001b[0;34m(self, batch)\u001b[0m\n\u001b[1;32m    570\u001b[0m         \u001b[0;31m# Don't delay the application, to avoid keeping the input\u001b[0m\u001b[0;34m\u001b[0m\u001b[0;34m\u001b[0m\u001b[0;34m\u001b[0m\u001b[0m\n\u001b[1;32m    571\u001b[0m         \u001b[0;31m# arguments in memory\u001b[0m\u001b[0;34m\u001b[0m\u001b[0;34m\u001b[0m\u001b[0;34m\u001b[0m\u001b[0m\n\u001b[0;32m--> 572\u001b[0;31m         \u001b[0mself\u001b[0m\u001b[0;34m.\u001b[0m\u001b[0mresults\u001b[0m \u001b[0;34m=\u001b[0m \u001b[0mbatch\u001b[0m\u001b[0;34m(\u001b[0m\u001b[0;34m)\u001b[0m\u001b[0;34m\u001b[0m\u001b[0;34m\u001b[0m\u001b[0m\n\u001b[0m\u001b[1;32m    573\u001b[0m \u001b[0;34m\u001b[0m\u001b[0m\n\u001b[1;32m    574\u001b[0m     \u001b[0;32mdef\u001b[0m \u001b[0mget\u001b[0m\u001b[0;34m(\u001b[0m\u001b[0mself\u001b[0m\u001b[0;34m)\u001b[0m\u001b[0;34m:\u001b[0m\u001b[0;34m\u001b[0m\u001b[0;34m\u001b[0m\u001b[0m\n",
      "\u001b[0;32m/opt/conda/lib/python3.7/site-packages/joblib/parallel.py\u001b[0m in \u001b[0;36m__call__\u001b[0;34m(self)\u001b[0m\n\u001b[1;32m    251\u001b[0m         \u001b[0;32mwith\u001b[0m \u001b[0mparallel_backend\u001b[0m\u001b[0;34m(\u001b[0m\u001b[0mself\u001b[0m\u001b[0;34m.\u001b[0m\u001b[0m_backend\u001b[0m\u001b[0;34m,\u001b[0m \u001b[0mn_jobs\u001b[0m\u001b[0;34m=\u001b[0m\u001b[0mself\u001b[0m\u001b[0;34m.\u001b[0m\u001b[0m_n_jobs\u001b[0m\u001b[0;34m)\u001b[0m\u001b[0;34m:\u001b[0m\u001b[0;34m\u001b[0m\u001b[0;34m\u001b[0m\u001b[0m\n\u001b[1;32m    252\u001b[0m             return [func(*args, **kwargs)\n\u001b[0;32m--> 253\u001b[0;31m                     for func, args, kwargs in self.items]\n\u001b[0m\u001b[1;32m    254\u001b[0m \u001b[0;34m\u001b[0m\u001b[0m\n\u001b[1;32m    255\u001b[0m     \u001b[0;32mdef\u001b[0m \u001b[0m__reduce__\u001b[0m\u001b[0;34m(\u001b[0m\u001b[0mself\u001b[0m\u001b[0;34m)\u001b[0m\u001b[0;34m:\u001b[0m\u001b[0;34m\u001b[0m\u001b[0;34m\u001b[0m\u001b[0m\n",
      "\u001b[0;32m/opt/conda/lib/python3.7/site-packages/joblib/parallel.py\u001b[0m in \u001b[0;36m<listcomp>\u001b[0;34m(.0)\u001b[0m\n\u001b[1;32m    251\u001b[0m         \u001b[0;32mwith\u001b[0m \u001b[0mparallel_backend\u001b[0m\u001b[0;34m(\u001b[0m\u001b[0mself\u001b[0m\u001b[0;34m.\u001b[0m\u001b[0m_backend\u001b[0m\u001b[0;34m,\u001b[0m \u001b[0mn_jobs\u001b[0m\u001b[0;34m=\u001b[0m\u001b[0mself\u001b[0m\u001b[0;34m.\u001b[0m\u001b[0m_n_jobs\u001b[0m\u001b[0;34m)\u001b[0m\u001b[0;34m:\u001b[0m\u001b[0;34m\u001b[0m\u001b[0;34m\u001b[0m\u001b[0m\n\u001b[1;32m    252\u001b[0m             return [func(*args, **kwargs)\n\u001b[0;32m--> 253\u001b[0;31m                     for func, args, kwargs in self.items]\n\u001b[0m\u001b[1;32m    254\u001b[0m \u001b[0;34m\u001b[0m\u001b[0m\n\u001b[1;32m    255\u001b[0m     \u001b[0;32mdef\u001b[0m \u001b[0m__reduce__\u001b[0m\u001b[0;34m(\u001b[0m\u001b[0mself\u001b[0m\u001b[0;34m)\u001b[0m\u001b[0;34m:\u001b[0m\u001b[0;34m\u001b[0m\u001b[0;34m\u001b[0m\u001b[0m\n",
      "\u001b[0;32m/opt/conda/lib/python3.7/site-packages/sklearn/ensemble/_forest.py\u001b[0m in \u001b[0;36m_parallel_build_trees\u001b[0;34m(tree, forest, X, y, sample_weight, tree_idx, n_trees, verbose, class_weight, n_samples_bootstrap)\u001b[0m\n\u001b[1;32m    163\u001b[0m             \u001b[0mcurr_sample_weight\u001b[0m \u001b[0;34m*=\u001b[0m \u001b[0mcompute_sample_weight\u001b[0m\u001b[0;34m(\u001b[0m\u001b[0;34m'balanced'\u001b[0m\u001b[0;34m,\u001b[0m \u001b[0my\u001b[0m\u001b[0;34m,\u001b[0m \u001b[0mindices\u001b[0m\u001b[0;34m)\u001b[0m\u001b[0;34m\u001b[0m\u001b[0;34m\u001b[0m\u001b[0m\n\u001b[1;32m    164\u001b[0m \u001b[0;34m\u001b[0m\u001b[0m\n\u001b[0;32m--> 165\u001b[0;31m         \u001b[0mtree\u001b[0m\u001b[0;34m.\u001b[0m\u001b[0mfit\u001b[0m\u001b[0;34m(\u001b[0m\u001b[0mX\u001b[0m\u001b[0;34m,\u001b[0m \u001b[0my\u001b[0m\u001b[0;34m,\u001b[0m \u001b[0msample_weight\u001b[0m\u001b[0;34m=\u001b[0m\u001b[0mcurr_sample_weight\u001b[0m\u001b[0;34m,\u001b[0m \u001b[0mcheck_input\u001b[0m\u001b[0;34m=\u001b[0m\u001b[0;32mFalse\u001b[0m\u001b[0;34m)\u001b[0m\u001b[0;34m\u001b[0m\u001b[0;34m\u001b[0m\u001b[0m\n\u001b[0m\u001b[1;32m    166\u001b[0m     \u001b[0;32melse\u001b[0m\u001b[0;34m:\u001b[0m\u001b[0;34m\u001b[0m\u001b[0;34m\u001b[0m\u001b[0m\n\u001b[1;32m    167\u001b[0m         \u001b[0mtree\u001b[0m\u001b[0;34m.\u001b[0m\u001b[0mfit\u001b[0m\u001b[0;34m(\u001b[0m\u001b[0mX\u001b[0m\u001b[0;34m,\u001b[0m \u001b[0my\u001b[0m\u001b[0;34m,\u001b[0m \u001b[0msample_weight\u001b[0m\u001b[0;34m=\u001b[0m\u001b[0msample_weight\u001b[0m\u001b[0;34m,\u001b[0m \u001b[0mcheck_input\u001b[0m\u001b[0;34m=\u001b[0m\u001b[0;32mFalse\u001b[0m\u001b[0;34m)\u001b[0m\u001b[0;34m\u001b[0m\u001b[0;34m\u001b[0m\u001b[0m\n",
      "\u001b[0;32m/opt/conda/lib/python3.7/site-packages/sklearn/tree/_classes.py\u001b[0m in \u001b[0;36mfit\u001b[0;34m(self, X, y, sample_weight, check_input, X_idx_sorted)\u001b[0m\n\u001b[1;32m   1223\u001b[0m             \u001b[0msample_weight\u001b[0m\u001b[0;34m=\u001b[0m\u001b[0msample_weight\u001b[0m\u001b[0;34m,\u001b[0m\u001b[0;34m\u001b[0m\u001b[0;34m\u001b[0m\u001b[0m\n\u001b[1;32m   1224\u001b[0m             \u001b[0mcheck_input\u001b[0m\u001b[0;34m=\u001b[0m\u001b[0mcheck_input\u001b[0m\u001b[0;34m,\u001b[0m\u001b[0;34m\u001b[0m\u001b[0;34m\u001b[0m\u001b[0m\n\u001b[0;32m-> 1225\u001b[0;31m             X_idx_sorted=X_idx_sorted)\n\u001b[0m\u001b[1;32m   1226\u001b[0m         \u001b[0;32mreturn\u001b[0m \u001b[0mself\u001b[0m\u001b[0;34m\u001b[0m\u001b[0;34m\u001b[0m\u001b[0m\n\u001b[1;32m   1227\u001b[0m \u001b[0;34m\u001b[0m\u001b[0m\n",
      "\u001b[0;32m/opt/conda/lib/python3.7/site-packages/sklearn/tree/_classes.py\u001b[0m in \u001b[0;36mfit\u001b[0;34m(self, X, y, sample_weight, check_input, X_idx_sorted)\u001b[0m\n\u001b[1;32m    365\u001b[0m                                            min_impurity_split)\n\u001b[1;32m    366\u001b[0m \u001b[0;34m\u001b[0m\u001b[0m\n\u001b[0;32m--> 367\u001b[0;31m         \u001b[0mbuilder\u001b[0m\u001b[0;34m.\u001b[0m\u001b[0mbuild\u001b[0m\u001b[0;34m(\u001b[0m\u001b[0mself\u001b[0m\u001b[0;34m.\u001b[0m\u001b[0mtree_\u001b[0m\u001b[0;34m,\u001b[0m \u001b[0mX\u001b[0m\u001b[0;34m,\u001b[0m \u001b[0my\u001b[0m\u001b[0;34m,\u001b[0m \u001b[0msample_weight\u001b[0m\u001b[0;34m,\u001b[0m \u001b[0mX_idx_sorted\u001b[0m\u001b[0;34m)\u001b[0m\u001b[0;34m\u001b[0m\u001b[0;34m\u001b[0m\u001b[0m\n\u001b[0m\u001b[1;32m    368\u001b[0m \u001b[0;34m\u001b[0m\u001b[0m\n\u001b[1;32m    369\u001b[0m         \u001b[0;32mif\u001b[0m \u001b[0mself\u001b[0m\u001b[0;34m.\u001b[0m\u001b[0mn_outputs_\u001b[0m \u001b[0;34m==\u001b[0m \u001b[0;36m1\u001b[0m \u001b[0;32mand\u001b[0m \u001b[0mis_classifier\u001b[0m\u001b[0;34m(\u001b[0m\u001b[0mself\u001b[0m\u001b[0;34m)\u001b[0m\u001b[0;34m:\u001b[0m\u001b[0;34m\u001b[0m\u001b[0;34m\u001b[0m\u001b[0m\n",
      "\u001b[0;31mKeyboardInterrupt\u001b[0m: "
     ]
    }
   ],
   "source": [
    "with mlflow.start_run(run_name=\"Random_Forest_Undercount_xmode\"):    \n",
    "    from sklearn.ensemble import RandomForestRegressor\n",
    "    \n",
    "    # model parameters\n",
    "    params = {'n_estimators': 1000, 'random_state': 41}\n",
    "\n",
    "    # log model params\n",
    "    for key in params:\n",
    "        mlflow.log_param(key, params[key])\n",
    "\n",
    "    # train Random Forest model\n",
    "    RFtree = RandomForestRegressor(**params)\n",
    "    RFtree.fit(train_features, train_labels)\n",
    "\n",
    "    # get predictions\n",
    "    y_pred = RFtree.predict(test_features)\n",
    "\n",
    "    R2_score = r2_score(test_labels, y_pred)\n",
    "    print(\"R2_Score: \", R2_score)\n",
    "    \n",
    "    # log accuracy metric\n",
    "    mlflow.log_metric(\"r2\", R2_score)\n",
    "    \n",
    "    # log model\n",
    "    mlflow.sklearn.log_model(RFtree, \"model\")"
   ]
  }
 ],
 "metadata": {
  "kernelspec": {
   "display_name": "Python 3",
   "language": "python",
   "name": "python3"
  },
  "language_info": {
   "codemirror_mode": {
    "name": "ipython",
    "version": 3
   },
   "file_extension": ".py",
   "mimetype": "text/x-python",
   "name": "python",
   "nbconvert_exporter": "python",
   "pygments_lexer": "ipython3",
   "version": "3.7.6"
  }
 },
 "nbformat": 4,
 "nbformat_minor": 4
}
